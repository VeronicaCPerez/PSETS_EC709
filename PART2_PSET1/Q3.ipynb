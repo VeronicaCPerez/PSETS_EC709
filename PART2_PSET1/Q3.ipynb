{
 "cells": [
  {
   "cell_type": "markdown",
   "metadata": {},
   "source": [
    "# PSET 3"
   ]
  },
  {
   "cell_type": "code",
   "execution_count": 13,
   "metadata": {},
   "outputs": [],
   "source": [
    "import pandas as pd\n",
    "import numpy as np\n",
    "from scipy.optimize import minimize\n",
    "import statsmodels.api as sm  "
   ]
  },
  {
   "cell_type": "code",
   "execution_count": 2,
   "metadata": {},
   "outputs": [],
   "source": [
    "# improt data\n",
    "file_path = '/Users/veronica/Dropbox/PhD/2024_2/EC_709/PSETS_EC709/PART2_PSET1/ps2-data.xlsx' \n",
    "data = pd.ExcelFile(file_path).parse('Sheet1')\n"
   ]
  },
  {
   "cell_type": "code",
   "execution_count": 18,
   "metadata": {},
   "outputs": [],
   "source": [
    "# mae time a date\n",
    "data['time'] = pd.to_datetime(data['time'])\n",
    "\n",
    "# define all periods\n",
    "pre_volcker_start = '1960-01-01'\n",
    "pre_volcker_end = '1979-06-30'\n",
    "volcker_greenspan_start = '1979-07-01'\n",
    "volcker_greenspan_end = '1996-12-31'\n",
    "\n",
    "# laggs and instruments for 4 lags and 2 lags\n",
    "variables = ['inf_cpi', 'inf_ppi', 'm2g', 'spread', 'r', 'x']\n",
    "lags_4 = 4\n",
    "lags_2 = 2\n",
    "\n",
    "# RR* values\n",
    "rr_star_pre_volcker = 0.8742997\n",
    "rr_star_volcker_greenspan = 3.502469\n",
    "\n"
   ]
  },
  {
   "cell_type": "code",
   "execution_count": 19,
   "metadata": {},
   "outputs": [],
   "source": [
    "# functions\n",
    "\n",
    "# make lags\n",
    "def create_lags(df, variables, lags):\n",
    "    lagged_data = {}\n",
    "    for var in variables:\n",
    "        for lag in range(1, lags + 1):\n",
    "            lagged_data[f\"{var}_lag{lag}\"] = df[var].shift(lag)\n",
    "    return pd.DataFrame(lagged_data)\n",
    "\n",
    "# gmm objective fcnt\n",
    "def gmm_objective(params, y, X, Z):\n",
    "    beta = params\n",
    "    residuals = y - X @ beta\n",
    "    moments = Z.T @ residuals\n",
    "    W = np.eye(Z.shape[1])  # Weighting matrix\n",
    "    return moments.T @ W @ moments\n",
    "\n",
    "# estimating fcn\n",
    "def estimate_gmm(y, X, Z):\n",
    "    beta_init = np.zeros(X.shape[1])\n",
    "    result = minimize(gmm_objective, beta_init, args=(y, X, Z), method='BFGS')\n",
    "    return result\n",
    "\n",
    "# data processing for gmm - add constants for estimation of z -> do i?\n",
    "def prepare_data_for_gmm(data, rr_star):\n",
    "    y = data['r'].values\n",
    "    X = sm.add_constant(data[['r_lag1', 'r_lag2', 'inf_cpi', 'x']]).values\n",
    "    X[:, 0] += rr_star  # Adjust constant term\n",
    "    Z = sm.add_constant(data.drop(columns=['r', 'time', 'inf_cpi', 'inf_ppi', 'm2g', 'spread', 'x']).values)\n",
    "    return y, X, Z\n",
    "\n",
    "# CI calculations\n",
    "def compute_confidence_intervals(result, y, X, Z):\n",
    "    beta = result.x\n",
    "    residuals = y - X @ beta\n",
    "    G = -(Z.T @ X) / len(y)\n",
    "    S = (Z.T @ np.diag(residuals**2) @ Z) / len(y)\n",
    "    var_beta = np.linalg.inv(G.T @ G) @ G.T @ S @ G @ np.linalg.inv(G.T @ G) / len(y)\n",
    "    se = np.sqrt(np.diag(var_beta))\n",
    "    ci_lower = beta - 1.645 * se\n",
    "    ci_upper = beta + 1.645 * se\n",
    "    return pd.DataFrame({\n",
    "        'Estimate': beta,\n",
    "        'Std. Error': se,\n",
    "        '90% CI Lower': ci_lower,\n",
    "        '90% CI Upper': ci_upper\n",
    "    })"
   ]
  },
  {
   "cell_type": "code",
   "execution_count": 20,
   "metadata": {},
   "outputs": [],
   "source": [
    "# split in periods\n",
    "pre_volcker_data = data[(data['time'] >= pre_volcker_start) & (data['time'] <= pre_volcker_end)]\n",
    "volcker_greenspan_data = data[(data['time'] >= volcker_greenspan_start) & (data['time'] <= volcker_greenspan_end)]\n",
    "\n",
    "# make lags for instruments\n",
    "\n",
    "pre_volcker_lags_4 = create_lags(pre_volcker_data, variables, lags_4).dropna()\n",
    "pre_volcker_lags_2 = create_lags(pre_volcker_data, variables, lags_2).dropna()\n",
    "volcker_greenspan_lags_4 = create_lags(volcker_greenspan_data, variables, lags_4).dropna()\n",
    "volcker_greenspan_lags_2 = create_lags(volcker_greenspan_data, variables, lags_2).dropna()\n",
    "\n",
    "# merge back lags into original data\n",
    "pre_volcker_final_4 = pre_volcker_data.iloc[lags_4:].reset_index(drop=True).join(pre_volcker_lags_4.reset_index(drop=True))\n",
    "pre_volcker_final_2 = pre_volcker_data.iloc[lags_2:].reset_index(drop=True).join(pre_volcker_lags_2.reset_index(drop=True))\n",
    "volcker_greenspan_final_4 = volcker_greenspan_data.iloc[lags_4:].reset_index(drop=True).join(volcker_greenspan_lags_4.reset_index(drop=True))\n",
    "volcker_greenspan_final_2 = volcker_greenspan_data.iloc[lags_2:].reset_index(drop=True).join(volcker_greenspan_lags_2.reset_index(drop=True))\n",
    "\n",
    "\n",
    "# data processing\n",
    "y_pre_4, X_pre_4, Z_pre_4 = prepare_data_for_gmm(pre_volcker_final_4, rr_star_pre_volcker)\n",
    "y_pre_2, X_pre_2, Z_pre_2 = prepare_data_for_gmm(pre_volcker_final_2, rr_star_pre_volcker)\n",
    "y_volcker_4, X_volcker_4, Z_volcker_4 = prepare_data_for_gmm(volcker_greenspan_final_4, rr_star_volcker_greenspan)\n",
    "y_volcker_2, X_volcker_2, Z_volcker_2 = prepare_data_for_gmm(volcker_greenspan_final_2, rr_star_volcker_greenspan)\n",
    "\n",
    "# gmm estimation for all models with 4 and 2 lags\n",
    "gmm_pre_volcker_4 = estimate_gmm(y_pre_4, X_pre_4, Z_pre_4)\n",
    "gmm_pre_volcker_2 = estimate_gmm(y_pre_2, X_pre_2, Z_pre_2)\n",
    "gmm_volcker_greenspan_4 = estimate_gmm(y_volcker_4, X_volcker_4, Z_volcker_4)\n",
    "gmm_volcker_greenspan_2 = estimate_gmm(y_volcker_2, X_volcker_2, Z_volcker_2)\n",
    "\n",
    "# get CIs\n",
    "ci_pre_volcker_4 = compute_confidence_intervals(gmm_pre_volcker_4, y_pre_4, X_pre_4, Z_pre_4)\n",
    "ci_pre_volcker_2 = compute_confidence_intervals(gmm_pre_volcker_2, y_pre_2, X_pre_2, Z_pre_2)\n",
    "ci_volcker_greenspan_4 = compute_confidence_intervals(gmm_volcker_greenspan_4, y_volcker_4, X_volcker_4, Z_volcker_4)\n",
    "ci_volcker_greenspan_2 = compute_confidence_intervals(gmm_volcker_greenspan_2, y_volcker_2, X_volcker_2, Z_volcker_2)"
   ]
  },
  {
   "cell_type": "code",
   "execution_count": 21,
   "metadata": {},
   "outputs": [
    {
     "name": "stdout",
     "output_type": "stream",
     "text": [
      "Pre-Volcker Period Estimates (4 Lags)\n",
      "   Estimate  Std. Error  90% CI Lower  90% CI Upper\n",
      "0  0.386933    0.197764      0.061611      0.712255\n",
      "1  1.055082    0.360749      0.461650      1.648513\n",
      "2 -0.364335    0.314530     -0.881737      0.153067\n",
      "3  0.208467    0.098192      0.046941      0.369993\n",
      "4  0.122418    0.060169      0.023441      0.221395\n",
      "\n",
      "Volcker-Greenspan Period Estimates (4 Lags)\n",
      "   Estimate  Std. Error  90% CI Lower  90% CI Upper\n",
      "0  0.176437    0.171282     -0.105321      0.458196\n",
      "1  0.325994    0.146360      0.085232      0.566755\n",
      "2  0.340211    0.153971      0.086928      0.593494\n",
      "3  0.438404    0.353030     -0.142330      1.019138\n",
      "4  0.017386    0.139074     -0.211390      0.246162\n"
     ]
    }
   ],
   "source": [
    "# Display results\n",
    "print(\"Pre-Volcker Period Estimates (4 Lags)\")\n",
    "print(ci_pre_volcker_4)\n",
    "print(\"\\nVolcker-Greenspan Period Estimates (4 Lags)\")\n",
    "print(ci_volcker_greenspan_4)"
   ]
  },
  {
   "cell_type": "code",
   "execution_count": 22,
   "metadata": {},
   "outputs": [
    {
     "name": "stdout",
     "output_type": "stream",
     "text": [
      "\n",
      "Pre-Volcker Period Estimates (2 Lags)\n",
      "   Estimate  Std. Error  90% CI Lower  90% CI Upper\n",
      "0  0.351011    0.181725      0.052074      0.649949\n",
      "1  0.830655    0.410563      0.155279      1.506030\n",
      "2 -0.194103    0.367585     -0.798780      0.410574\n",
      "3  0.280683    0.105563      0.107032      0.454335\n",
      "4  0.157364    0.075082      0.033855      0.280874\n",
      "\n",
      "Volcker-Greenspan Period Estimates (2 Lags)\n",
      "   Estimate  Std. Error  90% CI Lower  90% CI Upper\n",
      "0  0.262996    0.143597      0.026779      0.499214\n",
      "1  0.323205    0.127030      0.114241      0.532169\n",
      "2  0.327865    0.139905      0.097721      0.558009\n",
      "3  0.413708    0.199543      0.085460      0.741956\n",
      "4  0.085989    0.114476     -0.102324      0.274302\n"
     ]
    }
   ],
   "source": [
    "print(\"\\nPre-Volcker Period Estimates (2 Lags)\")\n",
    "print(ci_pre_volcker_2)\n",
    "print(\"\\nVolcker-Greenspan Period Estimates (2 Lags)\")\n",
    "print(ci_volcker_greenspan_2)"
   ]
  }
 ],
 "metadata": {
  "kernelspec": {
   "display_name": "python_env",
   "language": "python",
   "name": "python3"
  },
  "language_info": {
   "codemirror_mode": {
    "name": "ipython",
    "version": 3
   },
   "file_extension": ".py",
   "mimetype": "text/x-python",
   "name": "python",
   "nbconvert_exporter": "python",
   "pygments_lexer": "ipython3",
   "version": "3.8.19"
  }
 },
 "nbformat": 4,
 "nbformat_minor": 2
}
